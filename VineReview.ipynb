{
  "nbformat": 4,
  "nbformat_minor": 0,
  "metadata": {
    "colab": {
      "name": "VineReview.ipynb",
      "provenance": [],
      "collapsed_sections": []
    },
    "kernelspec": {
      "name": "python3",
      "display_name": "Python 3"
    },
    "nteract": {
      "version": "0.12.3"
    },
    "language_info": {
      "name": "python"
    }
  },
  "cells": [
    {
      "cell_type": "code",
      "metadata": {
        "id": "V58rxea0HqSa",
        "colab": {
          "base_uri": "https://localhost:8080/"
        },
        "outputId": "04be07ca-22fd-4b22-8752-3d24d23555f1"
      },
      "source": [
        "import os\n",
        "# Find the latest version of spark 3.0 from http://www.apache.org/dist/spark/ and enter as the spark version\n",
        "# For example:\n",
        "# spark_version = 'spark-3.0.3'\n",
        "spark_version = 'spark-3.0.3'\n",
        "os.environ['SPARK_VERSION']=spark_version\n",
        "\n",
        "# Install Spark and Java\n",
        "!apt-get update\n",
        "!apt-get install openjdk-11-jdk-headless -qq > /dev/null\n",
        "!wget -q http://www.apache.org/dist/spark/$SPARK_VERSION/$SPARK_VERSION-bin-hadoop2.7.tgz\n",
        "!tar xf $SPARK_VERSION-bin-hadoop2.7.tgz\n",
        "!pip install -q findspark\n",
        "\n",
        "# Set Environment Variables\n",
        "import os\n",
        "os.environ[\"JAVA_HOME\"] = \"/usr/lib/jvm/java-11-openjdk-amd64\"\n",
        "os.environ[\"SPARK_HOME\"] = f\"/content/{spark_version}-bin-hadoop2.7\"\n",
        "\n",
        "# Start a SparkSession\n",
        "import findspark\n",
        "findspark.init()"
      ],
      "execution_count": 2,
      "outputs": [
        {
          "output_type": "stream",
          "text": [
            "\r0% [Working]\r            \rIgn:1 https://developer.download.nvidia.com/compute/cuda/repos/ubuntu1804/x86_64  InRelease\n",
            "\r0% [Connecting to archive.ubuntu.com] [Connecting to security.ubuntu.com] [Wait\r                                                                               \rGet:2 https://cloud.r-project.org/bin/linux/ubuntu bionic-cran40/ InRelease [3,626 B]\n",
            "\r0% [Connecting to archive.ubuntu.com (91.189.88.152)] [Connecting to security.u\r0% [Connecting to archive.ubuntu.com (91.189.88.152)] [Connecting to security.u\r                                                                               \rIgn:3 https://developer.download.nvidia.com/compute/machine-learning/repos/ubuntu1804/x86_64  InRelease\n",
            "\r0% [Connecting to archive.ubuntu.com (91.189.88.152)] [Connecting to security.u\r0% [2 InRelease gpgv 3,626 B] [Connecting to archive.ubuntu.com (91.189.88.152)\r                                                                               \rHit:4 https://developer.download.nvidia.com/compute/cuda/repos/ubuntu1804/x86_64  Release\n",
            "Hit:5 https://developer.download.nvidia.com/compute/machine-learning/repos/ubuntu1804/x86_64  Release\n",
            "Hit:6 http://ppa.launchpad.net/c2d4u.team/c2d4u4.0+/ubuntu bionic InRelease\n",
            "Get:7 http://security.ubuntu.com/ubuntu bionic-security InRelease [88.7 kB]\n",
            "Hit:8 http://archive.ubuntu.com/ubuntu bionic InRelease\n",
            "Get:9 https://cloud.r-project.org/bin/linux/ubuntu bionic-cran40/ Packages [66.6 kB]\n",
            "Get:10 http://archive.ubuntu.com/ubuntu bionic-updates InRelease [88.7 kB]\n",
            "Hit:12 http://ppa.launchpad.net/cran/libgit2/ubuntu bionic InRelease\n",
            "Hit:14 http://ppa.launchpad.net/deadsnakes/ppa/ubuntu bionic InRelease\n",
            "Get:15 http://archive.ubuntu.com/ubuntu bionic-backports InRelease [74.6 kB]\n",
            "Get:16 http://ppa.launchpad.net/graphics-drivers/ppa/ubuntu bionic InRelease [21.3 kB]\n",
            "Get:17 http://security.ubuntu.com/ubuntu bionic-security/universe amd64 Packages [1,426 kB]\n",
            "Get:18 http://security.ubuntu.com/ubuntu bionic-security/main amd64 Packages [2,294 kB]\n",
            "Get:19 http://archive.ubuntu.com/ubuntu bionic-updates/universe amd64 Packages [2,199 kB]\n",
            "Get:20 http://ppa.launchpad.net/graphics-drivers/ppa/ubuntu bionic/main amd64 Packages [41.6 kB]\n",
            "Get:21 http://archive.ubuntu.com/ubuntu bionic-updates/main amd64 Packages [2,730 kB]\n",
            "Fetched 9,034 kB in 3s (2,583 kB/s)\n",
            "Reading package lists... Done\n"
          ],
          "name": "stdout"
        }
      ]
    },
    {
      "cell_type": "code",
      "metadata": {
        "id": "8Nk-SakWI0ZW"
      },
      "source": [
        ""
      ],
      "execution_count": null,
      "outputs": []
    },
    {
      "cell_type": "code",
      "metadata": {
        "id": "_xKwTpATHqSe",
        "colab": {
          "base_uri": "https://localhost:8080/"
        },
        "outputId": "1564e4f2-a31a-4d83-c36f-ef92ab9ae1de"
      },
      "source": [
        "# Download the Postgres driver that will allow Spark to interact with Postgres.\n",
        "!wget https://jdbc.postgresql.org/download/postgresql-42.2.16.jar"
      ],
      "execution_count": 3,
      "outputs": [
        {
          "output_type": "stream",
          "text": [
            "--2021-08-30 01:24:13--  https://jdbc.postgresql.org/download/postgresql-42.2.16.jar\n",
            "Resolving jdbc.postgresql.org (jdbc.postgresql.org)... 72.32.157.228, 2001:4800:3e1:1::228\n",
            "Connecting to jdbc.postgresql.org (jdbc.postgresql.org)|72.32.157.228|:443... connected.\n",
            "HTTP request sent, awaiting response... 200 OK\n",
            "Length: 1002883 (979K) [application/java-archive]\n",
            "Saving to: ‘postgresql-42.2.16.jar’\n",
            "\n",
            "postgresql-42.2.16. 100%[===================>] 979.38K  5.92MB/s    in 0.2s    \n",
            "\n",
            "2021-08-30 01:24:14 (5.92 MB/s) - ‘postgresql-42.2.16.jar’ saved [1002883/1002883]\n",
            "\n"
          ],
          "name": "stdout"
        }
      ]
    },
    {
      "cell_type": "code",
      "metadata": {
        "id": "MMqDAjVS0KN9"
      },
      "source": [
        "from pyspark.sql import SparkSession\n",
        "spark = SparkSession.builder.appName(\"M16-Amazon-Challenge\").config(\"spark.driver.extraClassPath\",\"/content/postgresql-42.2.16.jar\").getOrCreate()"
      ],
      "execution_count": 4,
      "outputs": []
    },
    {
      "cell_type": "markdown",
      "metadata": {
        "id": "cyBsySGuY-9V"
      },
      "source": [
        "### Load Amazon Data into Spark DataFrame"
      ]
    },
    {
      "cell_type": "code",
      "metadata": {
        "id": "CtCmBhQJY-9Z",
        "colab": {
          "base_uri": "https://localhost:8080/"
        },
        "outputId": "2c3bd9d6-27ef-4e65-c449-1b732a5e278a"
      },
      "source": [
        "from pyspark import SparkFiles\n",
        "url = \"https://s3.amazonaws.com/amazon-reviews-pds/tsv/amazon_reviews_us_Video_Games_v1_00.tsv.gz\"\n",
        "spark.sparkContext.addFile(url)\n",
        "df = spark.read.option(\"encoding\", \"UTF-8\").csv(SparkFiles.get(\"\"), sep=\"\\t\", header=True, inferSchema=True)\n",
        "df.show()"
      ],
      "execution_count": 5,
      "outputs": [
        {
          "output_type": "stream",
          "text": [
            "+-----------+-----------+--------------+----------+--------------+--------------------+----------------+-----------+-------------+-----------+----+-----------------+--------------------+--------------------+-----------+\n",
            "|marketplace|customer_id|     review_id|product_id|product_parent|       product_title|product_category|star_rating|helpful_votes|total_votes|vine|verified_purchase|     review_headline|         review_body|review_date|\n",
            "+-----------+-----------+--------------+----------+--------------+--------------------+----------------+-----------+-------------+-----------+----+-----------------+--------------------+--------------------+-----------+\n",
            "|         US|   12039526| RTIS3L2M1F5SM|B001CXYMFS|     737716809|Thrustmaster T-Fl...|     Video Games|          5|            0|          0|   N|                Y|an amazing joysti...|Used this for Eli...| 2015-08-31|\n",
            "|         US|    9636577| R1ZV7R40OLHKD|B00M920ND6|     569686175|Tonsee 6 buttons ...|     Video Games|          5|            0|          0|   N|                Y|Definitely a sile...|Loved it,  I didn...| 2015-08-31|\n",
            "|         US|    2331478|R3BH071QLH8QMC|B0029CSOD2|      98937668|Hidden Mysteries:...|     Video Games|          1|            0|          1|   N|                Y|            One Star|poor quality work...| 2015-08-31|\n",
            "|         US|   52495923|R127K9NTSXA2YH|B00GOOSV98|      23143350|GelTabz Performan...|     Video Games|          3|            0|          0|   N|                Y|good, but could b...|nice, but tend to...| 2015-08-31|\n",
            "|         US|   14533949|R32ZWUXDJPW27Q|B00Y074JOM|     821342511|Zero Suit Samus a...|     Video Games|          4|            0|          0|   N|                Y|   Great but flawed.|Great amiibo, gre...| 2015-08-31|\n",
            "|         US|    2377552|R3AQQ4YUKJWBA6|B002UBI6W6|     328764615|Psyclone Recharge...|     Video Games|          1|            0|          0|   N|                Y|            One Star|The remote consta...| 2015-08-31|\n",
            "|         US|   17521011|R2F0POU5K6F73F|B008XHCLFO|      24234603|Protection for yo...|     Video Games|          5|            0|          0|   N|                Y|              A Must|I have a 2012-201...| 2015-08-31|\n",
            "|         US|   19676307|R3VNR804HYSMR6|B00BRA9R6A|     682267517|   Nerf 3DS XL Armor|     Video Games|          5|            0|          0|   N|                Y|          Five Stars|Perfect, kids lov...| 2015-08-31|\n",
            "|         US|     224068| R3GZTM72WA2QH|B009EPWJLA|     435241890|One Piece: Pirate...|     Video Games|          5|            0|          0|   N|                Y|          Five Stars|            Excelent| 2015-08-31|\n",
            "|         US|   48467989| RNQOY62705W1K|B0000AV7GB|     256572651|Playstation 2 Dan...|     Video Games|          4|            0|          0|   N|                Y|          Four Stars|Slippery but expe...| 2015-08-31|\n",
            "|         US|     106569|R1VTIA3JTYBY02|B00008KTNN|     384411423|Metal Arms: Glitc...|     Video Games|          5|            0|          0|   N|                N|          Five Stars|Love the game. Se...| 2015-08-31|\n",
            "|         US|   48269642|R29DOU8791QZL8|B000A3IA0Y|     472622859|72 Pin Connector ...|     Video Games|          1|            0|          0|   N|                Y| Game will get stuck|Does not fit prop...| 2015-08-31|\n",
            "|         US|   52738710|R15DUT1VIJ9RJZ|B0053BQN34|     577628462|uDraw Gametablet ...|     Video Games|          2|            0|          0|   N|                Y|We have tried it ...|This was way too ...| 2015-08-31|\n",
            "|         US|   10556786|R3IMF2MQ3OU9ZM|B002I0HIMI|     988218515|NBA 2K12(Covers M...|     Video Games|          4|            0|          0|   N|                Y|          Four Stars|Works great good ...| 2015-08-31|\n",
            "|         US|    2963837|R23H79DHOZTYAU|B0081EH12M|     770100932|New Trigger Grips...|     Video Games|          1|            1|          1|   N|                Y|Now i have to buy...|It did not fit th...| 2015-08-31|\n",
            "|         US|   23092109| RIV24EQAIXA4O|B005FMLZQQ|      24647669|Xbox 360 Media Re...|     Video Games|          5|            0|          0|   N|                Y|          Five Stars|perfect lightweig...| 2015-08-31|\n",
            "|         US|   23091728|R3UCNGYDVN24YB|B002BSA388|      33706205|Super Mario Galaxy 2|     Video Games|          5|            0|          0|   N|                Y|          Five Stars|               great| 2015-08-31|\n",
            "|         US|   10712640| RUL4H4XTTN2DY|B00BUSLSAC|     829667834|Nintendo 3DS XL -...|     Video Games|          5|            0|          0|   N|                Y|          Five Stars|Works beautifully...| 2015-08-31|\n",
            "|         US|   17455376|R20JF7Z4DHTNX5|B00KWF38AW|     110680188|Captain Toad:  Tr...|     Video Games|          5|            0|          0|   N|                Y|          Five Stars|Kids loved the ga...| 2015-08-31|\n",
            "|         US|   14754850|R2T1AJ5MFI2260|B00BRQJYA8|     616463426|Lego Batman 2: DC...|     Video Games|          4|            0|          0|   N|                Y|          Four Stars|           Goodngame| 2015-08-31|\n",
            "+-----------+-----------+--------------+----------+--------------+--------------------+----------------+-----------+-------------+-----------+----+-----------------+--------------------+--------------------+-----------+\n",
            "only showing top 20 rows\n",
            "\n"
          ],
          "name": "stdout"
        }
      ]
    },
    {
      "cell_type": "markdown",
      "metadata": {
        "id": "2yUSe55VY-9t"
      },
      "source": [
        "### Create DataFrames to match tables"
      ]
    },
    {
      "cell_type": "code",
      "metadata": {
        "id": "C8REmY1aY-9u",
        "colab": {
          "base_uri": "https://localhost:8080/"
        },
        "outputId": "f09fec09-5f05-4a42-b0a7-c298960b2210"
      },
      "source": [
        "from pyspark.sql.functions import to_date\n",
        "# Create df to show total_votes count is >= 20\n",
        "total_votes_df = df.select(['product_id', 'product_title', 'helpful_votes', 'total_votes', 'vine', 'verified_purchase', 'star_rating', 'review_body'])\n",
        "high_total_votes_df = total_votes_df.filter('total_votes >= 20')\n",
        "high_total_votes_df.show()"
      ],
      "execution_count": 6,
      "outputs": [
        {
          "output_type": "stream",
          "text": [
            "+----------+--------------------+-------------+-----------+----+-----------------+-----------+--------------------+\n",
            "|product_id|       product_title|helpful_votes|total_votes|vine|verified_purchase|star_rating|         review_body|\n",
            "+----------+--------------------+-------------+-----------+----+-----------------+-----------+--------------------+\n",
            "|B00QZLVCU0|Valve - DOTA 2 St...|           21|         34|   N|                N|          1|Who pays 4 dollar...|\n",
            "|B00RHI62GY|ONE PIECE Pirate ...|           21|         35|   N|                Y|          1|Yesterday i recei...|\n",
            "|B00W435BU0|       Madden NFL 16|          147|        175|   N|                Y|          1|This is an absolu...|\n",
            "|B00PV515DU|Sony Borderlands ...|           14|         31|   N|                Y|          1|I ordered this it...|\n",
            "|B00WJ0Z194|Infinity 3.0 Star...|           55|         60|   N|                N|          2|While Infinity 3....|\n",
            "|B00W435C0Y|       Madden NFL 16|           51|         65|   N|                Y|          1|I've owned a vers...|\n",
            "|B00WJ0Z10S|Infinity 3.0 Star...|           31|         36|   N|                N|          4|I have never play...|\n",
            "|B0118GJKIW|Xbox One 500GB Co...|           19|         34|   N|                Y|          2|When I open a pro...|\n",
            "|B00ZSJU97C|Disney Infinity 3...|           28|         31|   N|                N|          5|We have been play...|\n",
            "|B00ZLGO5A4|Console PS4 500 G...|            4|         32|   N|                N|          1|It's not even 1 T...|\n",
            "|B00KAI3KW2|Microsoft Xbox On...|          151|        198|   N|                N|          2|When I open a pro...|\n",
            "|B00VE2VASY|SmaAcc Cooling Fa...|           49|         51|   N|                Y|          1|Very weak fan. Sy...|\n",
            "|B0118GJKIW|Xbox One 500GB Co...|            5|         36|   N|                N|          1|Need an additiona...|\n",
            "|B00MV7KVP4|Until Dawn  - Pla...|            7|        139|   N|                N|          1|What is this crap...|\n",
            "|B00KVR4HEC|          Bloodborne|           15|         45|   N|                N|          1|This game has a g...|\n",
            "|B00W6O8IZW|PlayStation 4 MET...|           34|        116|   N|                N|          1|Who in the hell w...|\n",
            "|B00W435BU0|       Madden NFL 16|           23|         28|   N|                N|          1|Sick of each mono...|\n",
            "|B00WTI3JPE|The Witcher 3: Wi...|            0|         23|   N|                Y|          1|It would be great...|\n",
            "|B00W435BL4|Madden NFL 16 - P...|           88|        110|   N|                N|          5|This game is grea...|\n",
            "|B00W435BU0|       Madden NFL 16|           99|        119|   N|                N|          2|The same thing pl...|\n",
            "+----------+--------------------+-------------+-----------+----+-----------------+-----------+--------------------+\n",
            "only showing top 20 rows\n",
            "\n"
          ],
          "name": "stdout"
        }
      ]
    },
    {
      "cell_type": "code",
      "metadata": {
        "colab": {
          "base_uri": "https://localhost:8080/"
        },
        "id": "RYeSgw2mp2wz",
        "outputId": "18202ae5-bc4d-4491-99d6-bdcd050ebd42"
      },
      "source": [
        "high_total_votes_df.count()"
      ],
      "execution_count": 7,
      "outputs": [
        {
          "output_type": "execute_result",
          "data": {
            "text/plain": [
              "65379"
            ]
          },
          "metadata": {},
          "execution_count": 7
        }
      ]
    },
    {
      "cell_type": "code",
      "metadata": {
        "id": "B0TESUDRY-90",
        "colab": {
          "base_uri": "https://localhost:8080/"
        },
        "outputId": "aad193bf-4691-4530-9772-f76532e128a5"
      },
      "source": [
        "# Filter and create a new df to retrieve all the rows where helpful_votes / total_votes >=50%\n",
        "high_percent_votes_df = high_total_votes_df.filter('helpful_votes / total_votes >= 0.5')\n",
        "high_percent_votes_df.show()"
      ],
      "execution_count": 8,
      "outputs": [
        {
          "output_type": "stream",
          "text": [
            "+----------+--------------------+-------------+-----------+----+-----------------+-----------+--------------------+\n",
            "|product_id|       product_title|helpful_votes|total_votes|vine|verified_purchase|star_rating|         review_body|\n",
            "+----------+--------------------+-------------+-----------+----+-----------------+-----------+--------------------+\n",
            "|B00QZLVCU0|Valve - DOTA 2 St...|           21|         34|   N|                N|          1|Who pays 4 dollar...|\n",
            "|B00RHI62GY|ONE PIECE Pirate ...|           21|         35|   N|                Y|          1|Yesterday i recei...|\n",
            "|B00W435BU0|       Madden NFL 16|          147|        175|   N|                Y|          1|This is an absolu...|\n",
            "|B00WJ0Z194|Infinity 3.0 Star...|           55|         60|   N|                N|          2|While Infinity 3....|\n",
            "|B00W435C0Y|       Madden NFL 16|           51|         65|   N|                Y|          1|I've owned a vers...|\n",
            "|B00WJ0Z10S|Infinity 3.0 Star...|           31|         36|   N|                N|          4|I have never play...|\n",
            "|B0118GJKIW|Xbox One 500GB Co...|           19|         34|   N|                Y|          2|When I open a pro...|\n",
            "|B00ZSJU97C|Disney Infinity 3...|           28|         31|   N|                N|          5|We have been play...|\n",
            "|B00KAI3KW2|Microsoft Xbox On...|          151|        198|   N|                N|          2|When I open a pro...|\n",
            "|B00VE2VASY|SmaAcc Cooling Fa...|           49|         51|   N|                Y|          1|Very weak fan. Sy...|\n",
            "|B00W435BU0|       Madden NFL 16|           23|         28|   N|                N|          1|Sick of each mono...|\n",
            "|B00W435BL4|Madden NFL 16 - P...|           88|        110|   N|                N|          5|This game is grea...|\n",
            "|B00W435BU0|       Madden NFL 16|           99|        119|   N|                N|          2|The same thing pl...|\n",
            "|B00W435C0Y|       Madden NFL 16|           24|         31|   N|                Y|          3|Let me first say ...|\n",
            "|B0138CZY9S|     Google Play $10|          102|        106|   N|                N|          1|This is just a st...|\n",
            "|B00W435BU0|       Madden NFL 16|           21|         25|   N|                Y|          2|Not happy with th...|\n",
            "|B00W435BU0|       Madden NFL 16|           19|         23|   N|                Y|          1|Freezes after eve...|\n",
            "|B00W435BU0|       Madden NFL 16|           15|         22|   N|                Y|          3|This game feels l...|\n",
            "|B00W435CPY|       Madden NFL 16|           79|         91|   N|                N|          1|Same as last year...|\n",
            "|B00W435BL4|Madden NFL 16 - P...|           24|         30|   N|                Y|          1|Finally arrived a...|\n",
            "+----------+--------------------+-------------+-----------+----+-----------------+-----------+--------------------+\n",
            "only showing top 20 rows\n",
            "\n"
          ],
          "name": "stdout"
        }
      ]
    },
    {
      "cell_type": "code",
      "metadata": {
        "id": "4FwXA6UvY-96",
        "colab": {
          "base_uri": "https://localhost:8080/"
        },
        "outputId": "ab224e37-cbb1-43a6-de77-e2d15d9e1434"
      },
      "source": [
        "# Filter and create a new df to retreive all the rows where a review was written as part of Vine\n",
        "high_percent_votes_withVine_df = high_total_votes_df.filter('vine = True')\n",
        "high_percent_votes_withVine_df.show()"
      ],
      "execution_count": 9,
      "outputs": [
        {
          "output_type": "stream",
          "text": [
            "+----------+--------------------+-------------+-----------+----+-----------------+-----------+--------------------+\n",
            "|product_id|       product_title|helpful_votes|total_votes|vine|verified_purchase|star_rating|         review_body|\n",
            "+----------+--------------------+-------------+-----------+----+-----------------+-----------+--------------------+\n",
            "|B00YXO5UXG|Turtle Beach - Ea...|           56|         63|   Y|                N|          5|Not every situati...|\n",
            "|B00XO041RQ|PDP AG7 True Wire...|           23|         23|   Y|                N|          3|[[VIDEOID:a9ebb8e...|\n",
            "|B00YXO5X4M|Turtle Beach - Ea...|           19|         24|   Y|                N|          5|[[VIDEOID:5a58574...|\n",
            "|B00U33Q940|NVIDIA SHIELD - 4...|            0|         25|   Y|                N|          1|I am really glad ...|\n",
            "|B00U33Q940|NVIDIA SHIELD - 4...|            2|         28|   Y|                N|          3|I got this in tod...|\n",
            "|B00P45U43O|Antec X-1 Cooler ...|           22|         26|   Y|                N|          4|The Antec X-1 Coo...|\n",
            "|B00MNPDMEQ|Turtle Beach - Ea...|           20|         26|   Y|                N|          3|As a DJ and avid ...|\n",
            "|B00Q5JD2DM|Turtle Beach Ear ...|           46|         51|   Y|                N|          5|My son has been g...|\n",
            "|B00O9GVKZU|Turtle Beach - Ea...|           22|         28|   Y|                N|          5|I really like thi...|\n",
            "|B00Q5JD2DM|Turtle Beach Ear ...|           21|         24|   Y|                N|          5|This Turtle Beach...|\n",
            "|B00Q5JD2DM|Turtle Beach Ear ...|           21|         28|   Y|                N|          4|This is a very pr...|\n",
            "|B00EDNLO32|Turtle Beach - i3...|           17|         20|   Y|                N|          5|These over the ea...|\n",
            "|B00NHV0XV0|Turtle Beach Ear ...|           55|         58|   Y|                N|          5|PROS:<br /><br />...|\n",
            "|B00LSBNSJA|PDP Wired Fight P...|           35|         41|   Y|                N|          5|I love how Ninten...|\n",
            "|B00KVQQJBW|Turtle Beach - Ea...|           18|         20|   Y|                N|          5|Both my son and I...|\n",
            "|B00NHV0XV0|Turtle Beach Ear ...|           21|         28|   Y|                N|          5|When I ordered th...|\n",
            "|B00KWHOXGI|Disney INFINITY 2...|           51|         58|   Y|                N|          4|Older players be ...|\n",
            "|B00KSVXSZU|Turtle Beach - Ea...|           85|        103|   Y|                N|          4|I own a couple pa...|\n",
            "|B00KSQAACO|Turtle Beach - Ea...|           38|         50|   Y|                N|          5|Turtle Beach has ...|\n",
            "|B00KSQAACO|Turtle Beach - Ea...|          241|        262|   Y|                N|          5|[[VIDEOID:mo2CKF0...|\n",
            "+----------+--------------------+-------------+-----------+----+-----------------+-----------+--------------------+\n",
            "only showing top 20 rows\n",
            "\n"
          ],
          "name": "stdout"
        }
      ]
    },
    {
      "cell_type": "code",
      "metadata": {
        "colab": {
          "base_uri": "https://localhost:8080/"
        },
        "id": "j4oX0a5Gr0BU",
        "outputId": "b3c0e33f-f08d-4df2-ae52-9d52d8bb8317"
      },
      "source": [
        "high_percent_votes_withVine_df.count()"
      ],
      "execution_count": 11,
      "outputs": [
        {
          "output_type": "execute_result",
          "data": {
            "text/plain": [
              "104"
            ]
          },
          "metadata": {},
          "execution_count": 11
        }
      ]
    },
    {
      "cell_type": "code",
      "metadata": {
        "colab": {
          "base_uri": "https://localhost:8080/"
        },
        "id": "my5SR_PDr5Ey",
        "outputId": "f2dd6f2d-ba94-4ba3-80ee-a65f29b78572"
      },
      "source": [
        "# Filter and create a new df to retreive all the rows where a review was written as part of Vine\n",
        "high_percent_votes_withVine_df = high_total_votes_df.filter('vine = True')\n",
        "high_percent_votes_withVine_df.show()"
      ],
      "execution_count": 12,
      "outputs": [
        {
          "output_type": "stream",
          "text": [
            "+----------+--------------------+-------------+-----------+----+-----------------+-----------+--------------------+\n",
            "|product_id|       product_title|helpful_votes|total_votes|vine|verified_purchase|star_rating|         review_body|\n",
            "+----------+--------------------+-------------+-----------+----+-----------------+-----------+--------------------+\n",
            "|B00YXO5UXG|Turtle Beach - Ea...|           56|         63|   Y|                N|          5|Not every situati...|\n",
            "|B00XO041RQ|PDP AG7 True Wire...|           23|         23|   Y|                N|          3|[[VIDEOID:a9ebb8e...|\n",
            "|B00YXO5X4M|Turtle Beach - Ea...|           19|         24|   Y|                N|          5|[[VIDEOID:5a58574...|\n",
            "|B00U33Q940|NVIDIA SHIELD - 4...|            0|         25|   Y|                N|          1|I am really glad ...|\n",
            "|B00U33Q940|NVIDIA SHIELD - 4...|            2|         28|   Y|                N|          3|I got this in tod...|\n",
            "|B00P45U43O|Antec X-1 Cooler ...|           22|         26|   Y|                N|          4|The Antec X-1 Coo...|\n",
            "|B00MNPDMEQ|Turtle Beach - Ea...|           20|         26|   Y|                N|          3|As a DJ and avid ...|\n",
            "|B00Q5JD2DM|Turtle Beach Ear ...|           46|         51|   Y|                N|          5|My son has been g...|\n",
            "|B00O9GVKZU|Turtle Beach - Ea...|           22|         28|   Y|                N|          5|I really like thi...|\n",
            "|B00Q5JD2DM|Turtle Beach Ear ...|           21|         24|   Y|                N|          5|This Turtle Beach...|\n",
            "|B00Q5JD2DM|Turtle Beach Ear ...|           21|         28|   Y|                N|          4|This is a very pr...|\n",
            "|B00EDNLO32|Turtle Beach - i3...|           17|         20|   Y|                N|          5|These over the ea...|\n",
            "|B00NHV0XV0|Turtle Beach Ear ...|           55|         58|   Y|                N|          5|PROS:<br /><br />...|\n",
            "|B00LSBNSJA|PDP Wired Fight P...|           35|         41|   Y|                N|          5|I love how Ninten...|\n",
            "|B00KVQQJBW|Turtle Beach - Ea...|           18|         20|   Y|                N|          5|Both my son and I...|\n",
            "|B00NHV0XV0|Turtle Beach Ear ...|           21|         28|   Y|                N|          5|When I ordered th...|\n",
            "|B00KWHOXGI|Disney INFINITY 2...|           51|         58|   Y|                N|          4|Older players be ...|\n",
            "|B00KSVXSZU|Turtle Beach - Ea...|           85|        103|   Y|                N|          4|I own a couple pa...|\n",
            "|B00KSQAACO|Turtle Beach - Ea...|           38|         50|   Y|                N|          5|Turtle Beach has ...|\n",
            "|B00KSQAACO|Turtle Beach - Ea...|          241|        262|   Y|                N|          5|[[VIDEOID:mo2CKF0...|\n",
            "+----------+--------------------+-------------+-----------+----+-----------------+-----------+--------------------+\n",
            "only showing top 20 rows\n",
            "\n"
          ],
          "name": "stdout"
        }
      ]
    },
    {
      "cell_type": "code",
      "metadata": {
        "id": "MkqyCuNQY-9-",
        "colab": {
          "base_uri": "https://localhost:8080/"
        },
        "outputId": "97f37bfe-6132-4e35-de1c-bf6312c58647"
      },
      "source": [
        "# Filter and create a new df to retreive all the rows where a review was written as part of Vine\n",
        "high_percent_votes_noVine_df = high_total_votes_df.filter('vine = False')\n",
        "high_percent_votes_noVine_df.show()"
      ],
      "execution_count": 13,
      "outputs": [
        {
          "output_type": "stream",
          "text": [
            "+----------+--------------------+-------------+-----------+----+-----------------+-----------+--------------------+\n",
            "|product_id|       product_title|helpful_votes|total_votes|vine|verified_purchase|star_rating|         review_body|\n",
            "+----------+--------------------+-------------+-----------+----+-----------------+-----------+--------------------+\n",
            "|B00QZLVCU0|Valve - DOTA 2 St...|           21|         34|   N|                N|          1|Who pays 4 dollar...|\n",
            "|B00RHI62GY|ONE PIECE Pirate ...|           21|         35|   N|                Y|          1|Yesterday i recei...|\n",
            "|B00W435BU0|       Madden NFL 16|          147|        175|   N|                Y|          1|This is an absolu...|\n",
            "|B00PV515DU|Sony Borderlands ...|           14|         31|   N|                Y|          1|I ordered this it...|\n",
            "|B00WJ0Z194|Infinity 3.0 Star...|           55|         60|   N|                N|          2|While Infinity 3....|\n",
            "|B00W435C0Y|       Madden NFL 16|           51|         65|   N|                Y|          1|I've owned a vers...|\n",
            "|B00WJ0Z10S|Infinity 3.0 Star...|           31|         36|   N|                N|          4|I have never play...|\n",
            "|B0118GJKIW|Xbox One 500GB Co...|           19|         34|   N|                Y|          2|When I open a pro...|\n",
            "|B00ZSJU97C|Disney Infinity 3...|           28|         31|   N|                N|          5|We have been play...|\n",
            "|B00ZLGO5A4|Console PS4 500 G...|            4|         32|   N|                N|          1|It's not even 1 T...|\n",
            "|B00KAI3KW2|Microsoft Xbox On...|          151|        198|   N|                N|          2|When I open a pro...|\n",
            "|B00VE2VASY|SmaAcc Cooling Fa...|           49|         51|   N|                Y|          1|Very weak fan. Sy...|\n",
            "|B0118GJKIW|Xbox One 500GB Co...|            5|         36|   N|                N|          1|Need an additiona...|\n",
            "|B00MV7KVP4|Until Dawn  - Pla...|            7|        139|   N|                N|          1|What is this crap...|\n",
            "|B00KVR4HEC|          Bloodborne|           15|         45|   N|                N|          1|This game has a g...|\n",
            "|B00W6O8IZW|PlayStation 4 MET...|           34|        116|   N|                N|          1|Who in the hell w...|\n",
            "|B00W435BU0|       Madden NFL 16|           23|         28|   N|                N|          1|Sick of each mono...|\n",
            "|B00WTI3JPE|The Witcher 3: Wi...|            0|         23|   N|                Y|          1|It would be great...|\n",
            "|B00W435BL4|Madden NFL 16 - P...|           88|        110|   N|                N|          5|This game is grea...|\n",
            "|B00W435BU0|       Madden NFL 16|           99|        119|   N|                N|          2|The same thing pl...|\n",
            "+----------+--------------------+-------------+-----------+----+-----------------+-----------+--------------------+\n",
            "only showing top 20 rows\n",
            "\n"
          ],
          "name": "stdout"
        }
      ]
    },
    {
      "cell_type": "code",
      "metadata": {
        "colab": {
          "base_uri": "https://localhost:8080/"
        },
        "id": "OJR_eH9D7iJ8",
        "outputId": "fc29fa4f-be3c-450b-c7ab-5138724182db"
      },
      "source": [
        "# Determine the total number of reviews\n",
        "high_total_votes_df.count()"
      ],
      "execution_count": 14,
      "outputs": [
        {
          "output_type": "execute_result",
          "data": {
            "text/plain": [
              "65379"
            ]
          },
          "metadata": {},
          "execution_count": 14
        }
      ]
    },
    {
      "cell_type": "code",
      "metadata": {
        "colab": {
          "base_uri": "https://localhost:8080/"
        },
        "id": "Zcinyzce-5te",
        "outputId": "5dc341b1-0aef-40ed-8c5d-b2a7e4f54595"
      },
      "source": [
        "# Determine the total number of 5-star reviews\n",
        "five_star_df = high_total_votes_df.filter(df['star_rating']== 5)\n",
        "five_star_df.count()\n"
      ],
      "execution_count": 15,
      "outputs": [
        {
          "output_type": "execute_result",
          "data": {
            "text/plain": [
              "20487"
            ]
          },
          "metadata": {},
          "execution_count": 15
        }
      ]
    },
    {
      "cell_type": "code",
      "metadata": {
        "colab": {
          "base_uri": "https://localhost:8080/"
        },
        "id": "NurEyYTx7U5j",
        "outputId": "d4776ee1-a46a-400b-f3fd-77fb5fea2227"
      },
      "source": [
        "# Determine the % of 5-star reviews for paid\n",
        "five_star_paid_df = five_star_df.filter(five_star_df['verified_purchase']== 'Y')\n",
        "five_star_paid_df.count()"
      ],
      "execution_count": 16,
      "outputs": [
        {
          "output_type": "execute_result",
          "data": {
            "text/plain": [
              "4704"
            ]
          },
          "metadata": {},
          "execution_count": 16
        }
      ]
    },
    {
      "cell_type": "code",
      "metadata": {
        "colab": {
          "base_uri": "https://localhost:8080/"
        },
        "id": "btz9-JanGTfV",
        "outputId": "ee9459c1-4c08-4cdc-a907-73cf305858e0"
      },
      "source": [
        "# Percentage of 5-star paid reviews vs all five_star reviews\n",
        "five_star_paid_df.count() / five_star_df.count()"
      ],
      "execution_count": 17,
      "outputs": [
        {
          "output_type": "execute_result",
          "data": {
            "text/plain": [
              "0.22960902035437106"
            ]
          },
          "metadata": {},
          "execution_count": 17
        }
      ]
    },
    {
      "cell_type": "code",
      "metadata": {
        "colab": {
          "base_uri": "https://localhost:8080/"
        },
        "id": "a7MTDOBB_nuV",
        "outputId": "c2eedb23-396e-46a4-d9e8-fd585256f683"
      },
      "source": [
        "# Determine the % of 5-star reviews for unpaid\n",
        "five_star_unpaid_df = five_star_df.filter(five_star_df['verified_purchase']== 'N')\n",
        "five_star_unpaid_df.count()"
      ],
      "execution_count": 18,
      "outputs": [
        {
          "output_type": "execute_result",
          "data": {
            "text/plain": [
              "15783"
            ]
          },
          "metadata": {},
          "execution_count": 18
        }
      ]
    },
    {
      "cell_type": "code",
      "metadata": {
        "colab": {
          "base_uri": "https://localhost:8080/"
        },
        "id": "9QfMmXF5HcmJ",
        "outputId": "f56ebd3c-3f0f-4c70-c9ed-cbba2b50c250"
      },
      "source": [
        "# Percentage of 5-star unpaid reviews vs all five_star reviews\n",
        "five_star_unpaid_df.count() / five_star_df.count()"
      ],
      "execution_count": 19,
      "outputs": [
        {
          "output_type": "execute_result",
          "data": {
            "text/plain": [
              "0.770390979645629"
            ]
          },
          "metadata": {},
          "execution_count": 19
        }
      ]
    }
  ]
}